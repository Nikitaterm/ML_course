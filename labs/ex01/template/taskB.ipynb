{
 "cells": [
  {
   "cell_type": "code",
   "execution_count": 29,
   "metadata": {
    "collapsed": false
   },
   "outputs": [
    {
     "name": "stdout",
     "output_type": "stream",
     "text": [
      "The autoreload extension is already loaded. To reload it, use:\n",
      "  %reload_ext autoreload\n"
     ]
    }
   ],
   "source": [
    "%matplotlib inline\n",
    "import numpy as np\n",
    "import matplotlib.pyplot as plt\n",
    "%load_ext autoreload\n",
    "%autoreload 2"
   ]
  },
  {
   "cell_type": "markdown",
   "metadata": {},
   "source": [
    "Data Generation\n",
    "==="
   ]
  },
  {
   "cell_type": "code",
   "execution_count": 30,
   "metadata": {
    "collapsed": false
   },
   "outputs": [
    {
     "name": "stdout",
     "output_type": "stream",
     "text": [
      "[[ 0.77132064  0.02075195]\n",
      " [ 0.63364823  0.74880388]\n",
      " [ 0.49850701  0.22479665]\n",
      " [ 0.19806286  0.76053071]] \n",
      "\n",
      " [[ 0.16911084  0.08833981]\n",
      " [ 0.68535982  0.95339335]\n",
      " [ 0.00394827  0.51219226]\n",
      " [ 0.81262096  0.61252607]\n",
      " [ 0.72175532  0.29187607]]\n"
     ]
    }
   ],
   "source": [
    "np.random.seed(10)\n",
    "p, q = (np.random.rand(i, 2) for i in (4, 5))\n",
    "p_big, q_big = (np.random.rand(i, 80) for i in (100, 120))\n",
    "\n",
    "print(p, \"\\n\\n\", q)"
   ]
  },
  {
   "cell_type": "markdown",
   "metadata": {},
   "source": [
    "Solution\n",
    "==="
   ]
  },
  {
   "cell_type": "code",
   "execution_count": 31,
   "metadata": {
    "collapsed": false
   },
   "outputs": [
    {
     "data": {
      "text/plain": [
       "array([[ 0.60599073,  0.93659449,  0.91124856,  0.59321356,  0.27561751],\n",
       "       [ 0.80746999,  0.21102354,  0.67268649,  0.22495084,  0.46534491],\n",
       "       [ 0.35654215,  0.75217493,  0.57200052,  0.49900068,  0.23310825],\n",
       "       [ 0.67281411,  0.52407472,  0.31520226,  0.63212897,  0.70277376]])"
      ]
     },
     "execution_count": 31,
     "metadata": {},
     "output_type": "execute_result"
    }
   ],
   "source": [
    "def naive(p, q):\n",
    "    res = np.zeros((4, 5))\n",
    "    for i in range (0, 4):\n",
    "        for j in range (0, 5):\n",
    "            res[i][j] = np.sqrt( (p[i][0] - q[j][0]) ** 2 + (p[i][1] - q[j][1]) ** 2 )\n",
    "            \n",
    "    return res\n",
    "\n",
    "naive(p, q)"
   ]
  },
  {
   "cell_type": "markdown",
   "metadata": {},
   "source": [
    "### Use matching indices\n",
    "\n",
    "Instead of iterating through indices, one can use them directly to parallelize the operations with Numpy."
   ]
  },
  {
   "cell_type": "code",
   "execution_count": 32,
   "metadata": {
    "collapsed": false
   },
   "outputs": [
    {
     "name": "stdout",
     "output_type": "stream",
     "text": [
      "[[0 0 0 0 0]\n",
      " [1 1 1 1 1]\n",
      " [2 2 2 2 2]\n",
      " [3 3 3 3 3]]\n",
      "\n",
      "[[0 1 2 3 4]\n",
      " [0 1 2 3 4]\n",
      " [0 1 2 3 4]\n",
      " [0 1 2 3 4]]\n"
     ]
    }
   ],
   "source": [
    "rows, cols = np.indices((p.shape[0], q.shape[0]))\n",
    "print(rows, end='\\n\\n')\n",
    "print(cols)"
   ]
  },
  {
   "cell_type": "code",
   "execution_count": 33,
   "metadata": {
    "collapsed": false
   },
   "outputs": [
    {
     "name": "stdout",
     "output_type": "stream",
     "text": [
      "[[ 0.77132064  0.02075195]\n",
      " [ 0.77132064  0.02075195]\n",
      " [ 0.77132064  0.02075195]\n",
      " [ 0.77132064  0.02075195]\n",
      " [ 0.77132064  0.02075195]\n",
      " [ 0.63364823  0.74880388]\n",
      " [ 0.63364823  0.74880388]\n",
      " [ 0.63364823  0.74880388]\n",
      " [ 0.63364823  0.74880388]\n",
      " [ 0.63364823  0.74880388]\n",
      " [ 0.49850701  0.22479665]\n",
      " [ 0.49850701  0.22479665]\n",
      " [ 0.49850701  0.22479665]\n",
      " [ 0.49850701  0.22479665]\n",
      " [ 0.49850701  0.22479665]\n",
      " [ 0.19806286  0.76053071]\n",
      " [ 0.19806286  0.76053071]\n",
      " [ 0.19806286  0.76053071]\n",
      " [ 0.19806286  0.76053071]\n",
      " [ 0.19806286  0.76053071]]\n",
      "\n",
      "[[ 0.16911084  0.08833981]\n",
      " [ 0.68535982  0.95339335]\n",
      " [ 0.00394827  0.51219226]\n",
      " [ 0.81262096  0.61252607]\n",
      " [ 0.72175532  0.29187607]\n",
      " [ 0.16911084  0.08833981]\n",
      " [ 0.68535982  0.95339335]\n",
      " [ 0.00394827  0.51219226]\n",
      " [ 0.81262096  0.61252607]\n",
      " [ 0.72175532  0.29187607]\n",
      " [ 0.16911084  0.08833981]\n",
      " [ 0.68535982  0.95339335]\n",
      " [ 0.00394827  0.51219226]\n",
      " [ 0.81262096  0.61252607]\n",
      " [ 0.72175532  0.29187607]\n",
      " [ 0.16911084  0.08833981]\n",
      " [ 0.68535982  0.95339335]\n",
      " [ 0.00394827  0.51219226]\n",
      " [ 0.81262096  0.61252607]\n",
      " [ 0.72175532  0.29187607]]\n"
     ]
    }
   ],
   "source": [
    "print(p[rows.ravel()], end='\\n\\n')\n",
    "print(q[cols.ravel()])"
   ]
  },
  {
   "cell_type": "code",
   "execution_count": 61,
   "metadata": {
    "collapsed": false
   },
   "outputs": [],
   "source": [
    "def with_indices(p, q):\n",
    "    sub = (p[rows.ravel()] - q[cols.ravel()]) ** 2\n",
    "    tmp = np.sqrt(sub[:,0] + sub[:,1])\n",
    "    \n",
    "with_indices(p, q)"
   ]
  },
  {
   "cell_type": "markdown",
   "metadata": {},
   "source": [
    "### Use a library\n",
    "\n",
    "`scipy` is the equivalent of matlab toolboxes and have a lot to offer. Actually the pairwise computation is part of the library through the `spatial` module."
   ]
  },
  {
   "cell_type": "code",
   "execution_count": 53,
   "metadata": {
    "collapsed": false
   },
   "outputs": [],
   "source": [
    "from scipy.spatial.distance import cdist\n",
    "\n",
    "def scipy_version(p, q):\n",
    "    return cdist(p, q)"
   ]
  },
  {
   "cell_type": "markdown",
   "metadata": {},
   "source": [
    "### Numpy Magic"
   ]
  },
  {
   "cell_type": "code",
   "execution_count": 54,
   "metadata": {
    "collapsed": false
   },
   "outputs": [],
   "source": [
    "def tensor_broadcasting(p, q):\n",
    "    return np.sqrt(np.sum((p[:,np.newaxis,:]-q[np.newaxis,:,:])**2, axis=2))"
   ]
  },
  {
   "cell_type": "markdown",
   "metadata": {},
   "source": [
    "# Compare methods"
   ]
  },
  {
   "cell_type": "code",
   "execution_count": 62,
   "metadata": {
    "collapsed": false
   },
   "outputs": [
    {
     "name": "stdout",
     "output_type": "stream",
     "text": [
      "10000 loops, best of 3: 87.8 µs per loop\n",
      "The slowest run took 4.46 times longer than the fastest. This could mean that an intermediate result is being cached.\n",
      "100000 loops, best of 3: 19 µs per loop\n"
     ]
    }
   ],
   "source": [
    "methods = [naive, with_indices]\n",
    "timers = []\n",
    "for f in methods:\n",
    "    r = %timeit -o f(p_big, q_big)\n",
    "    timers.append(r)"
   ]
  },
  {
   "cell_type": "code",
   "execution_count": 63,
   "metadata": {
    "collapsed": false
   },
   "outputs": [
    {
     "data": {
      "text/plain": [
       "<matplotlib.text.Text at 0x7f9dd7c14d68>"
      ]
     },
     "execution_count": 63,
     "metadata": {},
     "output_type": "execute_result"
    },
    {
     "data": {
      "image/png": "[encoded data removed]",
      "text/plain": [
       "<matplotlib.figure.Figure at 0x7f9dd7b90b38>"
      ]
     },
     "metadata": {},
     "output_type": "display_data"
    }
   ],
   "source": [
    "plt.figure(figsize=(10,6))\n",
    "plt.bar(np.arange(len(methods)), [r.best*1000 for r in timers], log=False)  # Set log to True for logarithmic scale\n",
    "plt.xticks(np.arange(len(methods))+0.2, [f.__name__ for f in methods], rotation=30)\n",
    "plt.xlabel('Method')\n",
    "plt.ylabel('Time (ms)')"
   ]
  },
  {
   "cell_type": "code",
   "execution_count": null,
   "metadata": {
    "collapsed": true
   },
   "outputs": [],
   "source": []
  },
  {
   "cell_type": "code",
   "execution_count": null,
   "metadata": {
    "collapsed": true
   },
   "outputs": [],
   "source": []
  },
  {
   "cell_type": "code",
   "execution_count": null,
   "metadata": {
    "collapsed": true
   },
   "outputs": [],
   "source": []
  },
  {
   "cell_type": "code",
   "execution_count": null,
   "metadata": {
    "collapsed": true
   },
   "outputs": [],
   "source": []
  },
  {
   "cell_type": "code",
   "execution_count": null,
   "metadata": {
    "collapsed": true
   },
   "outputs": [],
   "source": []
  },
  {
   "cell_type": "code",
   "execution_count": null,
   "metadata": {
    "collapsed": true
   },
   "outputs": [],
   "source": []
  },
  {
   "cell_type": "code",
   "execution_count": null,
   "metadata": {
    "collapsed": true
   },
   "outputs": [],
   "source": []
  }
 ],
 "metadata": {
  "anaconda-cloud": {},
  "kernelspec": {
   "display_name": "Python [Root]",
   "language": "python",
   "name": "Python [Root]"
  },
  "language_info": {
   "codemirror_mode": {
    "name": "ipython",
    "version": 3
   },
   "file_extension": ".py",
   "mimetype": "text/x-python",
   "name": "python",
   "nbconvert_exporter": "python",
   "pygments_lexer": "ipython3",
   "version": "3.5.2"
  }
 },
 "nbformat": 4,
 "nbformat_minor": 0
}
